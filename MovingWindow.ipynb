{
 "cells": [
  {
   "cell_type": "code",
   "execution_count": 4,
   "metadata": {
    "collapsed": true
   },
   "outputs": [],
   "source": [
    "\n",
    "import argparse\n",
    "import cv2\n",
    "import numpy as np\n",
    "import abcclassify.abcclassify as abcc\n",
    "import csv\n",
    "import os.path\n",
    "from sklearn import tree\n"
   ]
  },
  {
   "cell_type": "code",
   "execution_count": 5,
   "metadata": {
    "collapsed": false
   },
   "outputs": [
    {
     "name": "stdout",
     "output_type": "stream",
     "text": [
      "Loading tracking data from: /home/zzalsdme/IDInteraction/paper/results/OpenFace/P01_front.openface\n",
      "OpenFace input detected\n"
     ]
    }
   ],
   "source": [
    "# from 4822 to 16134 for P01\n",
    "participant = abcc.videotracking(framerange=(4822, 16134))\n",
    "participant.addtrackingdata(\"/home/zzalsdme/IDInteraction/paper/results/OpenFace/P01_front.openface\")\n",
    "groundtruth = abcc.loadExternalGroundTruth(\"/home/zzalsdme/IDInteraction/paper/results/Groundtruth/P01_attention.csv\", participant)\n",
    "# All the potential training frames\n",
    "trainingframes = participant.frames\n",
    "np.random.shuffle(trainingframes)\n",
    "\n"
   ]
  },
  {
   "cell_type": "markdown",
   "metadata": {},
   "source": [
    "We want to explore different approaches to training the classifier.  We've already looked at sequential and random, and shown that random classification leads to much better performance.  \n",
    "\n",
    "Rob suggested looking at areas that had poor performance, and focussing on these.  If we've got ground truth we *know* where has poor performance. Normally though we'll need to use cross validation to estimate the performance of the classifier\n"
   ]
  },
  {
   "cell_type": "markdown",
   "metadata": {},
   "source": [
    "We want a window size such that the cross-validation scores are resonably stable.\n",
    "\n"
   ]
  },
  {
   "cell_type": "code",
   "execution_count": 6,
   "metadata": {
    "collapsed": false
   },
   "outputs": [
    {
     "name": "stdout",
     "output_type": "stream",
     "text": [
      "0.796666666667 0.163605215891\n",
      "45\n",
      "0.812777777778 0.124376221379\n",
      "93\n",
      "0.8 0.109730653541\n",
      "140\n",
      "0.85649122807 0.0727557770791\n",
      "189\n",
      "0.790365612648 0.124719069477\n",
      "235\n",
      "0.792266009852 0.113507104396\n",
      "285\n",
      "0.799715909091 0.105519572895\n",
      "333\n",
      "0.823301236459 0.100072954304\n",
      "382\n",
      "0.79959478506 0.126234836549\n",
      "430\n",
      "0.823581560284 0.111813766963\n",
      "477\n"
     ]
    }
   ],
   "source": [
    "maxsd = 0.05\n",
    "batchsize = 50\n",
    "participant.setClassificationMethod(\"random\")\n",
    "for batch in range(0,10):\n",
    "    for f in range(0, batchsize):\n",
    "        thisframe = trainingframes.pop()\n",
    "        participant.setClassification(thisframe, \\\n",
    "                                      groundtruth.loc[thisframe][\"state\"], \\\n",
    "                                      testunset = True )\n",
    "    vtc = abcc.videotrackingclassifier(participant)\n",
    "    xvalscore = vtc.getCrossValidatedScore(cv=10)\n",
    "    print str(xvalscore.mean()) + \" \" + str(xvalscore.std())\n",
    "    print vtc.vto.numClassifiedFrames()\n",
    "    \n",
    "    \n",
    "    \n",
    "\n"
   ]
  },
  {
   "cell_type": "code",
   "execution_count": null,
   "metadata": {
    "collapsed": true
   },
   "outputs": [],
   "source": []
  }
 ],
 "metadata": {
  "kernelspec": {
   "display_name": "Python 2",
   "language": "python",
   "name": "python2"
  },
  "language_info": {
   "codemirror_mode": {
    "name": "ipython",
    "version": 2
   },
   "file_extension": ".py",
   "mimetype": "text/x-python",
   "name": "python",
   "nbconvert_exporter": "python",
   "pygments_lexer": "ipython2",
   "version": "2.7.12"
  }
 },
 "nbformat": 4,
 "nbformat_minor": 2
}
