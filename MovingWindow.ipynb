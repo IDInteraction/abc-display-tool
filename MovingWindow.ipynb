{
 "cells": [
  {
   "cell_type": "code",
   "execution_count": 1,
   "metadata": {
    "collapsed": true
   },
   "outputs": [],
   "source": [
    "\n",
    "import argparse\n",
    "import cv2\n",
    "import numpy as np\n",
    "import pandas as pd\n",
    "import matplotlib.pyplot as plt\n",
    "import abcclassify.abcclassify as abcc\n",
    "import csv\n",
    "import os.path\n",
    "from sklearn import tree\n"
   ]
  },
  {
   "cell_type": "code",
   "execution_count": 2,
   "metadata": {
    "collapsed": false
   },
   "outputs": [
    {
     "name": "stdout",
     "output_type": "stream",
     "text": [
      "Loading tracking data from: /home/zzalsdme/IDInteraction/paper/results/OpenFace/P01_front.openface\n",
      "OpenFace input detected\n"
     ]
    }
   ],
   "source": [
    "\n",
    "participant = abcc.videotracking(framerange=(10530, 15611))\n",
    "participant.addtrackingdata(\"/home/zzalsdme/IDInteraction/paper/results/OpenFace/P01_front.openface\")\n",
    "groundtruth = abcc.loadExternalGroundTruth(\"/home/zzalsdme/IDInteraction/paper/results/Groundtruth/P01_attention.csv\", participant)\n",
    "# All the potential training frames\n",
    "trainingframes = participant.frames\n",
    "np.random.shuffle(trainingframes)\n",
    "\n",
    "cvfolds = 5\n"
   ]
  },
  {
   "cell_type": "markdown",
   "metadata": {},
   "source": [
    "We want to explore different approaches to training the classifier.  We've already looked at sequential and random, and shown that random classification leads to much better performance.  \n",
    "\n",
    "Rob suggested looking at areas that had poor performance, and focussing on these.  If we've got ground truth we *know* where has poor performance. Normally though we'll need to use cross validation to estimate the performance of the classifier\n"
   ]
  },
  {
   "cell_type": "markdown",
   "metadata": {},
   "source": [
    "We want a window size such that the cross-validation scores are resonably stable.\n",
    "\n"
   ]
  },
  {
   "cell_type": "code",
   "execution_count": 3,
   "metadata": {
    "collapsed": false
   },
   "outputs": [
    {
     "name": "stdout",
     "output_type": "stream",
     "text": [
      "5000 0.839829076429 0.0540381873356\n"
     ]
    },
    {
     "name": "stderr",
     "output_type": "stream",
     "text": [
      "[Parallel(n_jobs=1)]: Done   5 out of   5 | elapsed:   10.4s finished\n"
     ]
    }
   ],
   "source": [
    "maxsd = 0.05\n",
    "batchsize = 5000\n",
    "participant.setClassificationMethod(\"random\")\n",
    "for batch in range(0,1):\n",
    "    for f in range(0, batchsize):\n",
    "        thisframe = trainingframes.pop()\n",
    "        participant.setClassification(thisframe, \\\n",
    "                                      groundtruth.loc[thisframe][\"state\"], \\\n",
    "                                      testunset = True )\n",
    "    vtc = abcc.videotrackingclassifier(participant)\n",
    "    xvalscore = vtc.getCrossValidatedScore(cv=cvfolds)\n",
    "    print str(vtc.vto.numClassifiedFrames()) + \" \"+ str(xvalscore.mean()) + \" \" + str(xvalscore.std())\n",
    "      \n",
    "    \n",
    "    \n",
    "\n"
   ]
  },
  {
   "cell_type": "markdown",
   "metadata": {
    "collapsed": true
   },
   "source": [
    "We see that accuracy tends to improve, and varition between x-val folds decreases.\n",
    "Now we define a moving window function, to extract specific subsets of the data.  We pull out subsets with a constant number of frames (TODO ones at end???), regardless of how many frames have been classified within them.  \n",
    "\n"
   ]
  },
  {
   "cell_type": "code",
   "execution_count": 4,
   "metadata": {
    "collapsed": false
   },
   "outputs": [
    {
     "name": "stderr",
     "output_type": "stream",
     "text": [
      "[Parallel(n_jobs=1)]: Done   5 out of   5 | elapsed:   10.8s finished\n",
      "[Parallel(n_jobs=1)]: Done   5 out of   5 | elapsed:   10.8s finished\n",
      "[Parallel(n_jobs=1)]: Done   5 out of   5 | elapsed:   10.6s finished\n",
      "[Parallel(n_jobs=1)]: Done   5 out of   5 | elapsed:   10.7s finished\n",
      "[Parallel(n_jobs=1)]: Done   5 out of   5 | elapsed:   10.6s finished\n",
      "[Parallel(n_jobs=1)]: Done   5 out of   5 | elapsed:   10.3s finished\n",
      "[Parallel(n_jobs=1)]: Done   5 out of   5 | elapsed:   10.5s finished\n",
      "[Parallel(n_jobs=1)]: Done   5 out of   5 | elapsed:   10.6s finished\n",
      "[Parallel(n_jobs=1)]: Done   5 out of   5 | elapsed:   10.4s finished\n",
      "[Parallel(n_jobs=1)]: Done   5 out of   5 | elapsed:   10.4s finished\n",
      "[Parallel(n_jobs=1)]: Done   5 out of   5 | elapsed:   10.5s finished\n",
      "[Parallel(n_jobs=1)]: Done   5 out of   5 | elapsed:   10.3s finished\n",
      "[Parallel(n_jobs=1)]: Done   5 out of   5 | elapsed:   10.7s finished\n",
      "[Parallel(n_jobs=1)]: Done   5 out of   5 | elapsed:   10.5s finished\n",
      "[Parallel(n_jobs=1)]: Done   5 out of   5 | elapsed:   10.1s finished\n",
      "[Parallel(n_jobs=1)]: Done   5 out of   5 | elapsed:   10.4s finished\n"
     ]
    }
   ],
   "source": [
    "windowsize = 1000 # Number of frames in each window\n",
    "advancesize = 250  # The amount to advance each window by\n",
    "# overlap between adjacent windows will be windowsize - advancesize\n",
    "\n",
    "firstframe = min(participant.frames)\n",
    "lastframe = max(participant.frames)\n",
    "\n",
    "windowstarts = range(firstframe, lastframe - windowsize, advancesize)\n",
    "\n",
    "means=[]\n",
    "stds = []\n",
    "for fr in windowstarts:\n",
    "    thispart = participant.split((fr, fr + windowsize))\n",
    "    try: \n",
    "        thispartvtc = abcc.videotrackingclassifier(thispart)\n",
    "        xvalscore = vtc.getCrossValidatedScore(cv = cvfolds)\n",
    "    except ValueError:\n",
    "        xvalscore = np.array([np.NaN])\n",
    "    means.append(xvalscore.mean())\n",
    "    stds.append(xvalscore.std())\n",
    "\n",
    "    \n",
    "results = pd.DataFrame.from_items([(\"startframe\", windowstarts),\n",
    "                                  (\"mean\", means),\n",
    "                                  (\"std\", stds)])\n"
   ]
  },
  {
   "cell_type": "code",
   "execution_count": 5,
   "metadata": {
    "collapsed": false
   },
   "outputs": [
    {
     "data": {
      "image/png": "[encoded data removed]",
      "text/plain": [
       "<matplotlib.figure.Figure at 0x7f783cceb790>"
      ]
     },
     "metadata": {},
     "output_type": "display_data"
    }
   ],
   "source": [
    "plt.plot(results[\"startframe\"], results[\"mean\"])\n",
    "\n",
    "plt.show()\n"
   ]
  },
  {
   "cell_type": "code",
   "execution_count": null,
   "metadata": {
    "collapsed": true
   },
   "outputs": [],
   "source": []
  }
 ],
 "metadata": {
  "kernelspec": {
   "display_name": "Python 2",
   "language": "python",
   "name": "python2"
  },
  "language_info": {
   "codemirror_mode": {
    "name": "ipython",
    "version": 2
   },
   "file_extension": ".py",
   "mimetype": "text/x-python",
   "name": "python",
   "nbconvert_exporter": "python",
   "pygments_lexer": "ipython2",
   "version": "2.7.12"
  }
 },
 "nbformat": 4,
 "nbformat_minor": 2
}
