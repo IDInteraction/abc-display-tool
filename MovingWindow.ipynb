{
 "cells": [
  {
   "cell_type": "code",
   "execution_count": 1,
   "metadata": {
    "collapsed": true
   },
   "outputs": [],
   "source": [
    "\n",
    "import argparse\n",
    "import cv2\n",
    "import numpy as np\n",
    "import pandas as pd\n",
    "import matplotlib.pyplot as plt\n",
    "import abcclassify.abcclassify as abcc\n",
    "import csv\n",
    "import os.path\n",
    "from sklearn import tree\n"
   ]
  },
  {
   "cell_type": "code",
   "execution_count": 2,
   "metadata": {
    "collapsed": false
   },
   "outputs": [
    {
     "name": "stdout",
     "output_type": "stream",
     "text": [
      "Loading tracking data from: /home/zzalsdme/IDInteraction/paper/results/OpenFace/P01_front.openface\n",
      "OpenFace input detected\n"
     ]
    }
   ],
   "source": [
    "\n",
    "participant = abcc.videotracking(framerange=(10530, 15611))\n",
    "participant.addtrackingdata(\"/home/zzalsdme/IDInteraction/paper/results/OpenFace/P01_front.openface\")\n",
    "groundtruth = abcc.loadExternalGroundTruth(\"/home/zzalsdme/IDInteraction/paper/results/Groundtruth/P01_attention.csv\", participant)\n",
    "# All the potential training frames\n",
    "trainingframes = participant.frames\n",
    "np.random.shuffle(trainingframes)\n",
    "participant.setClassificationMethod(\"random\")\n",
    "cvfolds = 5\n"
   ]
  },
  {
   "cell_type": "markdown",
   "metadata": {},
   "source": [
    "We want to explore different approaches to training the classifier.  We've already looked at sequential and random, and shown that random classification leads to much better performance.  \n",
    "\n",
    "Rob suggested looking at areas that had poor performance, and focussing on these.  If we've got ground truth we *know* where has poor performance. Normally though we'll need to use cross validation to estimate the performance of the classifier\n"
   ]
  },
  {
   "cell_type": "markdown",
   "metadata": {},
   "source": [
    "We want a window size such that the cross-validation scores are resonably stable.\n",
    "\n"
   ]
  },
  {
   "cell_type": "code",
   "execution_count": 3,
   "metadata": {
    "collapsed": false
   },
   "outputs": [
    {
     "name": "stdout",
     "output_type": "stream",
     "text": [
      "   startframe  mean  std  numclassframes\n",
      "0       10530     1    0               7\n",
      "1       12530   NaN  NaN               2\n",
      "2       14530   NaN  NaN               1\n",
      "10530 300 0.85 0.073029674334\n",
      "   startframe  mean  std  numclassframes\n",
      "0       10530   0.9  0.2              12\n",
      "1       12530   NaN  NaN               2\n",
      "2       14530   NaN  NaN               1\n",
      "10530 400 0.8575 0.0331662479036\n",
      "   startframe      mean       std  numclassframes\n",
      "0       10530  0.933333  0.133333              13\n",
      "1       12530       NaN       NaN               2\n",
      "2       14530       NaN       NaN               1\n",
      "10530 500 0.876 0.0338230690506\n"
     ]
    }
   ],
   "source": [
    "batchsize = 100\n",
    "windowsize = 2000 # Number of (total - classified and unclassified) frames in each window\n",
    "advancesize = 250  # The amount to advance each window by\n",
    "# overlap between adjacent windows will be windowsize - advancesize\n",
    "\n",
    "def trainRegion(participant, groundtruth):\n",
    "    \"\"\"Apply the groundtruth data to a participant\"\"\"\n",
    "    for index,row in groundtruth.iterrows():\n",
    "        participant.setClassification(index, row[\"state\"], testunset = True)\n",
    "        \n",
    "\n",
    "def calcWindowedAccuracy(participant, windowsize, advancesize):\n",
    "    \"\"\"Test the xval accuracy of overlapping windows within the object\"\"\"\n",
    "    firstframe = min(participant.frames)\n",
    "    lastframe = max(participant.frames)\n",
    "\n",
    "    windowstarts = range(firstframe, lastframe - windowsize, advancesize)\n",
    "\n",
    "    means=[]\n",
    "    stds = []\n",
    "    numframes = []\n",
    "    for fr in windowstarts:\n",
    "        thispart = participant.split((fr, fr + windowsize))\n",
    "        try: \n",
    "            thispartvtc = abcc.videotrackingclassifier(thispart)\n",
    "            xvalscore = thispartvtc.getCrossValidatedScore(cv = cvfolds)\n",
    "        except ValueError:\n",
    "            xvalscore = np.array([np.NaN])\n",
    "        means.append(xvalscore.mean())\n",
    "        stds.append(xvalscore.std())\n",
    "        numframes.append(len(thispart.getClassifiedFrames()))\n",
    "\n",
    "    \n",
    "    results = pd.DataFrame.from_items([(\"startframe\", windowstarts),\n",
    "                                  (\"mean\", means),\n",
    "                                  (\"std\", stds),\n",
    "                                  (\"numclassframes\", numframes)])\n",
    "    \n",
    "    return results\n",
    "\n",
    "\n",
    "# Perform initial training with batchsize frames\n",
    "trainRegion(participant, groundtruth.loc[trainingframes[:(2*batchsize)]])\n",
    "\n",
    "for i in range(1,4):\n",
    "    results = calcWindowedAccuracy(participant, batchsize, windowsize)\n",
    "    \n",
    "    print results\n",
    "\n",
    "    \n",
    "    # Find the minimum accuracy startframe\n",
    "    # TODO - handle tiebreaks - pick at random\n",
    "    minstartframe = results[\"startframe\"].iloc[np.nanargmin(results[\"mean\"])]\n",
    "    \n",
    "    # Get frames we to classify in this range\n",
    "    trainingframes = list(set(range(minstartframe, minstartframe + windowsize)) - \\\n",
    "                      set(participant.getClassifiedFrames().index))\n",
    "\n",
    "    np.random.shuffle(trainingframes)\n",
    "        \n",
    "    traindata = groundtruth.loc[trainingframes[:batchsize]]\n",
    "    trainRegion(participant, traindata)\n",
    "\n",
    "    vtc = abcc.videotrackingclassifier(participant)\n",
    "    xvalscore = vtc.getCrossValidatedScore(cv=cvfolds)\n",
    "    print str(minstartframe) + \" \" + str(vtc.vto.numClassifiedFrames()) + \" \"+ str(xvalscore.mean()) + \" \" + str(xvalscore.std())\n",
    "      \n",
    "    \n",
    "    \n",
    "\n"
   ]
  },
  {
   "cell_type": "markdown",
   "metadata": {
    "collapsed": true
   },
   "source": [
    "We see that accuracy tends to improve, and varition between x-val folds decreases.\n",
    "Now we define a moving window function, to extract specific subsets of the data.  We pull out subsets with a constant number of frames (TODO ones at end???), regardless of how many frames have been classified within them.  \n",
    "\n"
   ]
  },
  {
   "cell_type": "markdown",
   "metadata": {
    "collapsed": false
   },
   "source": [
    "\n",
    "\n",
    "firstframe = min(participant.frames)\n",
    "lastframe = max(participant.frames)\n",
    "\n",
    "windowstarts = range(firstframe, lastframe - windowsize, advancesize)\n",
    "\n",
    "means=[]\n",
    "stds = []\n",
    "for fr in windowstarts:\n",
    "    thispart = participant.split((fr, fr + windowsize))\n",
    "    try: \n",
    "        thispartvtc = abcc.videotrackingclassifier(thispart)\n",
    "        xvalscore = vtc.getCrossValidatedScore(cv = cvfolds)\n",
    "    except ValueError:\n",
    "        xvalscore = np.array([np.NaN])\n",
    "    means.append(xvalscore.mean())\n",
    "    stds.append(xvalscore.std())\n",
    "\n",
    "    \n",
    "results = pd.DataFrame.from_items([(\"startframe\", windowstarts),\n",
    "                                  (\"mean\", means),\n",
    "                                  (\"std\", stds)])\n"
   ]
  },
  {
   "cell_type": "code",
   "execution_count": 4,
   "metadata": {
    "collapsed": false
   },
   "outputs": [
    {
     "data": {
      "image/png": "[encoded data removed]",
      "text/plain": [
       "<matplotlib.figure.Figure at 0x7f73a1ed8a50>"
      ]
     },
     "metadata": {},
     "output_type": "display_data"
    }
   ],
   "source": [
    "plt.plot(results[\"startframe\"], results[\"mean\"])\n",
    "\n",
    "plt.show()\n"
   ]
  },
  {
   "cell_type": "code",
   "execution_count": 5,
   "metadata": {
    "collapsed": false
   },
   "outputs": [
    {
     "name": "stdout",
     "output_type": "stream",
     "text": [
      "1624\n"
     ]
    }
   ],
   "source": [
    "# Find the minimum startframe\n",
    "minstartframe = results[\"startframe\"].iloc[results[\"mean\"].argmin()]\n",
    "\n",
    "# Get frames we to classify in this range\n",
    "trainingframes = list(set(range(minstartframe, minstartframe + windowsize)) - \\\n",
    "                      set(participant.getClassifiedFrames().index))\n",
    "print len(trainingframes)\n",
    "np.random.shuffle(trainingframes)\n",
    "\n"
   ]
  }
 ],
 "metadata": {
  "kernelspec": {
   "display_name": "Python 2",
   "language": "python",
   "name": "python2"
  },
  "language_info": {
   "codemirror_mode": {
    "name": "ipython",
    "version": 2
   },
   "file_extension": ".py",
   "mimetype": "text/x-python",
   "name": "python",
   "nbconvert_exporter": "python",
   "pygments_lexer": "ipython2",
   "version": "2.7.12"
  }
 },
 "nbformat": 4,
 "nbformat_minor": 2
}
