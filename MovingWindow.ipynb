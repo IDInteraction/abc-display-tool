{
 "cells": [
  {
   "cell_type": "code",
   "execution_count": 1,
   "metadata": {
    "collapsed": true
   },
   "outputs": [],
   "source": [
    "\n",
    "import argparse\n",
    "import cv2\n",
    "import numpy as np\n",
    "import pandas as pd\n",
    "import matplotlib.pyplot as plt\n",
    "import abcclassify.abcclassify as abcc\n",
    "import csv\n",
    "import os.path\n",
    "from sklearn import tree\n"
   ]
  },
  {
   "cell_type": "code",
   "execution_count": 2,
   "metadata": {
    "collapsed": false
   },
   "outputs": [
    {
     "name": "stdout",
     "output_type": "stream",
     "text": [
      "Loading tracking data from: /home/zzalsdme/IDInteraction/paper/results/OpenFace/P01_front.openface\n",
      "OpenFace input detected\n"
     ]
    }
   ],
   "source": [
    "\n",
    "participant = abcc.videotracking(framerange=(10530, 15611))\n",
    "participant.addtrackingdata(\"/home/zzalsdme/IDInteraction/paper/results/OpenFace/P01_front.openface\")\n",
    "groundtruth = abcc.loadExternalGroundTruth(\"/home/zzalsdme/IDInteraction/paper/results/Groundtruth/P01_attention.csv\", participant)\n",
    "# All the potential training frames\n",
    "trainingframes = participant.frames\n",
    "np.random.shuffle(trainingframes)\n",
    "\n",
    "cvfolds = 5\n"
   ]
  },
  {
   "cell_type": "markdown",
   "metadata": {},
   "source": [
    "We want to explore different approaches to training the classifier.  We've already looked at sequential and random, and shown that random classification leads to much better performance.  \n",
    "\n",
    "Rob suggested looking at areas that had poor performance, and focussing on these.  If we've got ground truth we *know* where has poor performance. Normally though we'll need to use cross validation to estimate the performance of the classifier\n"
   ]
  },
  {
   "cell_type": "markdown",
   "metadata": {},
   "source": [
    "We want a window size such that the cross-validation scores are resonably stable.\n",
    "\n"
   ]
  },
  {
   "cell_type": "code",
   "execution_count": 3,
   "metadata": {
    "collapsed": false
   },
   "outputs": [
    {
     "name": "stdout",
     "output_type": "stream",
     "text": [
      "30 0.866666666667 0.124721912892\n",
      "60 0.933333333333 0.0623609564462\n",
      "90 0.8 0.114395890455\n",
      "120 0.891666666667 0.0333333333333\n",
      "150 0.86 0.0388730126323\n",
      "180 0.877777777778 0.0484322104838\n",
      "210 0.885714285714 0.0178174161275\n",
      "240 0.8875 0.0386400770646\n",
      "270 0.87037037037 0.0309874083902\n",
      "300 0.9 0.0394405318873\n"
     ]
    }
   ],
   "source": [
    "maxsd = 0.05\n",
    "batchsize = 30\n",
    "participant.setClassificationMethod(\"random\")\n",
    "for batch in range(0,10):\n",
    "    for f in range(0, batchsize):\n",
    "        thisframe = trainingframes.pop()\n",
    "        participant.setClassification(thisframe, \\\n",
    "                                      groundtruth.loc[thisframe][\"state\"], \\\n",
    "                                      testunset = True )\n",
    "    vtc = abcc.videotrackingclassifier(participant)\n",
    "    xvalscore = vtc.getCrossValidatedScore(cv=cvfolds)\n",
    "    print str(vtc.vto.numClassifiedFrames()) + \" \"+ str(xvalscore.mean()) + \" \" + str(xvalscore.std())\n",
    "      \n",
    "    \n",
    "    \n",
    "\n"
   ]
  },
  {
   "cell_type": "markdown",
   "metadata": {
    "collapsed": true
   },
   "source": [
    "We see that accuracy tends to improve, and varition between x-val folds decreases.\n",
    "Now we define a moving window function, to extract specific subsets of the data.  We pull out subsets with a constant number of frames (TODO ones at end???), regardless of how many frames have been classified within them.  \n",
    "\n"
   ]
  },
  {
   "cell_type": "code",
   "execution_count": 4,
   "metadata": {
    "collapsed": false
   },
   "outputs": [],
   "source": [
    "windowsize = 1000 # Number of (total - classified and unclassified) frames in each window\n",
    "advancesize = 250  # The amount to advance each window by\n",
    "# overlap between adjacent windows will be windowsize - advancesize\n",
    "\n",
    "firstframe = min(participant.frames)\n",
    "lastframe = max(participant.frames)\n",
    "\n",
    "windowstarts = range(firstframe, lastframe - windowsize, advancesize)\n",
    "\n",
    "means=[]\n",
    "stds = []\n",
    "for fr in windowstarts:\n",
    "    thispart = participant.split((fr, fr + windowsize))\n",
    "    try: \n",
    "        thispartvtc = abcc.videotrackingclassifier(thispart)\n",
    "        xvalscore = vtc.getCrossValidatedScore(cv = cvfolds)\n",
    "    except ValueError:\n",
    "        xvalscore = np.array([np.NaN])\n",
    "    means.append(xvalscore.mean())\n",
    "    stds.append(xvalscore.std())\n",
    "\n",
    "    \n",
    "results = pd.DataFrame.from_items([(\"startframe\", windowstarts),\n",
    "                                  (\"mean\", means),\n",
    "                                  (\"std\", stds)])\n"
   ]
  },
  {
   "cell_type": "code",
   "execution_count": 7,
   "metadata": {
    "collapsed": false
   },
   "outputs": [
    {
     "data": {
      "image/png": "[encoded data removed]",
      "text/plain": [
       "<matplotlib.figure.Figure at 0x7f1aa8c278d0>"
      ]
     },
     "metadata": {},
     "output_type": "display_data"
    }
   ],
   "source": [
    "plt.plot(results[\"startframe\"], results[\"mean\"])\n",
    "\n",
    "plt.show()\n"
   ]
  },
  {
   "cell_type": "code",
   "execution_count": 14,
   "metadata": {
    "collapsed": false
   },
   "outputs": [],
   "source": [
    "# Find the minimum startframe\n",
    "minstartframe = results[\"startframe\"].iloc[results[\"mean\"].argmin()]\n",
    "\n",
    "subpart = participant.split((minstartframe, minstartframe + windowsize))\n",
    "\n"
   ]
  }
 ],
 "metadata": {
  "kernelspec": {
   "display_name": "Python 2",
   "language": "python",
   "name": "python2"
  },
  "language_info": {
   "codemirror_mode": {
    "name": "ipython",
    "version": 2
   },
   "file_extension": ".py",
   "mimetype": "text/x-python",
   "name": "python",
   "nbconvert_exporter": "python",
   "pygments_lexer": "ipython2",
   "version": "2.7.12"
  }
 },
 "nbformat": 4,
 "nbformat_minor": 2
}
